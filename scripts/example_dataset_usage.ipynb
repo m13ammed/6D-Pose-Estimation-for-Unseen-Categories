{
 "cells": [
  {
   "cell_type": "code",
   "execution_count": 1,
   "metadata": {},
   "outputs": [
    {
     "ename": "ValueError",
     "evalue": "No configurable matching 'base_object_dataset'.\n  In file \"../config/example_dataset.gin\", line 6\n    base_object_dataset.mode = 'train_pbr'",
     "output_type": "error",
     "traceback": [
      "\u001b[0;31m---------------------------------------------------------------------------\u001b[0m",
      "\u001b[0;31mValueError\u001b[0m                                Traceback (most recent call last)",
      "Cell \u001b[0;32mIn[1], line 6\u001b[0m\n\u001b[1;32m      4\u001b[0m sys\u001b[39m.\u001b[39mpath\u001b[39m.\u001b[39mappend(\u001b[39m\"\u001b[39m\u001b[39m../\u001b[39m\u001b[39m\"\u001b[39m)\n\u001b[1;32m      5\u001b[0m \u001b[39mfrom\u001b[39;00m \u001b[39mutils\u001b[39;00m \u001b[39mimport\u001b[39;00m   utils\n\u001b[0;32m----> 6\u001b[0m gin\u001b[39m.\u001b[39;49mparse_config_file(\u001b[39m'\u001b[39;49m\u001b[39m../config/example_dataset.gin\u001b[39;49m\u001b[39m'\u001b[39;49m)\n\u001b[1;32m      7\u001b[0m utils\u001b[39m.\u001b[39mset_env_variables()\n",
      "File \u001b[0;32m~/anaconda3/envs/lab/lib/python3.10/site-packages/gin/config.py:2450\u001b[0m, in \u001b[0;36mparse_config_file\u001b[0;34m(config_file, skip_unknown, print_includes_and_imports)\u001b[0m\n\u001b[1;32m   2448\u001b[0m \u001b[39mif\u001b[39;00m existence_check(config_file_with_prefix):\n\u001b[1;32m   2449\u001b[0m   \u001b[39mwith\u001b[39;00m reader(config_file_with_prefix) \u001b[39mas\u001b[39;00m f:\n\u001b[0;32m-> 2450\u001b[0m     includes, imports \u001b[39m=\u001b[39m parse_config(f, skip_unknown\u001b[39m=\u001b[39;49mskip_unknown)\n\u001b[1;32m   2451\u001b[0m     results \u001b[39m=\u001b[39m ParsedConfigFileIncludesAndImports(\n\u001b[1;32m   2452\u001b[0m         filename\u001b[39m=\u001b[39mconfig_file, imports\u001b[39m=\u001b[39mimports, includes\u001b[39m=\u001b[39mincludes)\n\u001b[1;32m   2453\u001b[0m     \u001b[39mif\u001b[39;00m print_includes_and_imports:\n",
      "File \u001b[0;32m~/anaconda3/envs/lab/lib/python3.10/site-packages/gin/config.py:2330\u001b[0m, in \u001b[0;36mparse_config\u001b[0;34m(bindings, skip_unknown)\u001b[0m\n\u001b[1;32m   2328\u001b[0m       bind_parameter((macro_name, \u001b[39m'\u001b[39m\u001b[39mgin.macro\u001b[39m\u001b[39m'\u001b[39m, \u001b[39m'\u001b[39m\u001b[39mvalue\u001b[39m\u001b[39m'\u001b[39m), value)\n\u001b[1;32m   2329\u001b[0m   \u001b[39melif\u001b[39;00m \u001b[39mnot\u001b[39;00m _should_skip(selector, skip_unknown):\n\u001b[0;32m-> 2330\u001b[0m     \u001b[39mwith\u001b[39;00m utils\u001b[39m.\u001b[39mtry_with_location(location):\n\u001b[1;32m   2331\u001b[0m       bind_parameter((scope, selector, arg_name), value)\n\u001b[1;32m   2332\u001b[0m \u001b[39melif\u001b[39;00m \u001b[39misinstance\u001b[39m(statement, config_parser\u001b[39m.\u001b[39mBlockDeclaration):\n",
      "File \u001b[0;32m~/anaconda3/envs/lab/lib/python3.10/contextlib.py:153\u001b[0m, in \u001b[0;36m_GeneratorContextManager.__exit__\u001b[0;34m(self, typ, value, traceback)\u001b[0m\n\u001b[1;32m    151\u001b[0m     value \u001b[39m=\u001b[39m typ()\n\u001b[1;32m    152\u001b[0m \u001b[39mtry\u001b[39;00m:\n\u001b[0;32m--> 153\u001b[0m     \u001b[39mself\u001b[39;49m\u001b[39m.\u001b[39;49mgen\u001b[39m.\u001b[39;49mthrow(typ, value, traceback)\n\u001b[1;32m    154\u001b[0m \u001b[39mexcept\u001b[39;00m \u001b[39mStopIteration\u001b[39;00m \u001b[39mas\u001b[39;00m exc:\n\u001b[1;32m    155\u001b[0m     \u001b[39m# Suppress StopIteration *unless* it's the same exception that\u001b[39;00m\n\u001b[1;32m    156\u001b[0m     \u001b[39m# was passed to throw().  This prevents a StopIteration\u001b[39;00m\n\u001b[1;32m    157\u001b[0m     \u001b[39m# raised inside the \"with\" statement from being suppressed.\u001b[39;00m\n\u001b[1;32m    158\u001b[0m     \u001b[39mreturn\u001b[39;00m exc \u001b[39mis\u001b[39;00m \u001b[39mnot\u001b[39;00m value\n",
      "File \u001b[0;32m~/anaconda3/envs/lab/lib/python3.10/site-packages/gin/utils.py:60\u001b[0m, in \u001b[0;36mtry_with_location\u001b[0;34m(location)\u001b[0m\n\u001b[1;32m     58\u001b[0m \u001b[39mif\u001b[39;00m \u001b[39misinstance\u001b[39m(exception, \u001b[39mSyntaxError\u001b[39;00m):\n\u001b[1;32m     59\u001b[0m   \u001b[39mraise\u001b[39;00m  \u001b[39m# SyntaxErrors already include location information.\u001b[39;00m\n\u001b[0;32m---> 60\u001b[0m augment_exception_message_and_reraise(exception, _format_location(location))\n",
      "File \u001b[0;32m~/anaconda3/envs/lab/lib/python3.10/site-packages/gin/utils.py:41\u001b[0m, in \u001b[0;36maugment_exception_message_and_reraise\u001b[0;34m(exception, message)\u001b[0m\n\u001b[1;32m     39\u001b[0m proxy \u001b[39m=\u001b[39m ExceptionProxy()\n\u001b[1;32m     40\u001b[0m ExceptionProxy\u001b[39m.\u001b[39m\u001b[39m__qualname__\u001b[39m \u001b[39m=\u001b[39m \u001b[39mtype\u001b[39m(exception)\u001b[39m.\u001b[39m\u001b[39m__qualname__\u001b[39m\n\u001b[0;32m---> 41\u001b[0m \u001b[39mraise\u001b[39;00m proxy\u001b[39m.\u001b[39mwith_traceback(exception\u001b[39m.\u001b[39m__traceback__) \u001b[39mfrom\u001b[39;00m \u001b[39mNone\u001b[39;00m\n",
      "File \u001b[0;32m~/anaconda3/envs/lab/lib/python3.10/site-packages/gin/utils.py:56\u001b[0m, in \u001b[0;36mtry_with_location\u001b[0;34m(location)\u001b[0m\n\u001b[1;32m     53\u001b[0m \u001b[39m@contextlib\u001b[39m\u001b[39m.\u001b[39mcontextmanager\n\u001b[1;32m     54\u001b[0m \u001b[39mdef\u001b[39;00m \u001b[39mtry_with_location\u001b[39m(location):\n\u001b[1;32m     55\u001b[0m   \u001b[39mtry\u001b[39;00m:\n\u001b[0;32m---> 56\u001b[0m     \u001b[39myield\u001b[39;00m\n\u001b[1;32m     57\u001b[0m   \u001b[39mexcept\u001b[39;00m \u001b[39mException\u001b[39;00m \u001b[39mas\u001b[39;00m exception:  \u001b[39m# pylint: disable=broad-except\u001b[39;00m\n\u001b[1;32m     58\u001b[0m     \u001b[39mif\u001b[39;00m \u001b[39misinstance\u001b[39m(exception, \u001b[39mSyntaxError\u001b[39;00m):\n",
      "File \u001b[0;32m~/anaconda3/envs/lab/lib/python3.10/site-packages/gin/config.py:2331\u001b[0m, in \u001b[0;36mparse_config\u001b[0;34m(bindings, skip_unknown)\u001b[0m\n\u001b[1;32m   2329\u001b[0m   \u001b[39melif\u001b[39;00m \u001b[39mnot\u001b[39;00m _should_skip(selector, skip_unknown):\n\u001b[1;32m   2330\u001b[0m     \u001b[39mwith\u001b[39;00m utils\u001b[39m.\u001b[39mtry_with_location(location):\n\u001b[0;32m-> 2331\u001b[0m       bind_parameter((scope, selector, arg_name), value)\n\u001b[1;32m   2332\u001b[0m \u001b[39melif\u001b[39;00m \u001b[39misinstance\u001b[39m(statement, config_parser\u001b[39m.\u001b[39mBlockDeclaration):\n\u001b[1;32m   2333\u001b[0m   \u001b[39mif\u001b[39;00m \u001b[39mnot\u001b[39;00m _should_skip(statement\u001b[39m.\u001b[39mselector, skip_unknown):\n",
      "File \u001b[0;32m~/anaconda3/envs/lab/lib/python3.10/site-packages/gin/config.py:1051\u001b[0m, in \u001b[0;36mbind_parameter\u001b[0;34m(binding_key, value)\u001b[0m\n\u001b[1;32m   1048\u001b[0m \u001b[39mif\u001b[39;00m config_is_locked():\n\u001b[1;32m   1049\u001b[0m   \u001b[39mraise\u001b[39;00m \u001b[39mRuntimeError\u001b[39;00m(\u001b[39m'\u001b[39m\u001b[39mAttempted to modify locked Gin config.\u001b[39m\u001b[39m'\u001b[39m)\n\u001b[0;32m-> 1051\u001b[0m pbk \u001b[39m=\u001b[39m ParsedBindingKey\u001b[39m.\u001b[39;49mparse(binding_key)\n\u001b[1;32m   1052\u001b[0m fn_dict \u001b[39m=\u001b[39m _CONFIG\u001b[39m.\u001b[39msetdefault(pbk\u001b[39m.\u001b[39mconfig_key, {})\n\u001b[1;32m   1053\u001b[0m fn_dict[pbk\u001b[39m.\u001b[39marg_name] \u001b[39m=\u001b[39m value\n",
      "File \u001b[0;32m~/anaconda3/envs/lab/lib/python3.10/site-packages/gin/config.py:910\u001b[0m, in \u001b[0;36mParsedBindingKey.parse\u001b[0;34m(cls, binding_key)\u001b[0m\n\u001b[1;32m    908\u001b[0m configurable_ \u001b[39m=\u001b[39m _parse_context()\u001b[39m.\u001b[39mget_configurable(selector)\n\u001b[1;32m    909\u001b[0m \u001b[39mif\u001b[39;00m \u001b[39mnot\u001b[39;00m configurable_:\n\u001b[0;32m--> 910\u001b[0m   _raise_unknown_configurable_error(selector)\n\u001b[1;32m    912\u001b[0m \u001b[39mif\u001b[39;00m configurable_\u001b[39m.\u001b[39mis_method \u001b[39mand\u001b[39;00m \u001b[39m'\u001b[39m\u001b[39m.\u001b[39m\u001b[39m'\u001b[39m \u001b[39mnot\u001b[39;00m \u001b[39min\u001b[39;00m selector:\n\u001b[1;32m    913\u001b[0m   class_name \u001b[39m=\u001b[39m configurable_\u001b[39m.\u001b[39mselector\u001b[39m.\u001b[39msplit(\u001b[39m'\u001b[39m\u001b[39m.\u001b[39m\u001b[39m'\u001b[39m)[\u001b[39m-\u001b[39m\u001b[39m2\u001b[39m]\n",
      "File \u001b[0;32m~/anaconda3/envs/lab/lib/python3.10/site-packages/gin/config.py:648\u001b[0m, in \u001b[0;36m_raise_unknown_configurable_error\u001b[0;34m(selector)\u001b[0m\n\u001b[1;32m    647\u001b[0m \u001b[39mdef\u001b[39;00m \u001b[39m_raise_unknown_configurable_error\u001b[39m(selector):\n\u001b[0;32m--> 648\u001b[0m   \u001b[39mraise\u001b[39;00m \u001b[39mValueError\u001b[39;00m(\u001b[39mf\u001b[39m\u001b[39m\"\u001b[39m\u001b[39mNo configurable matching \u001b[39m\u001b[39m'\u001b[39m\u001b[39m{\u001b[39;00mselector\u001b[39m}\u001b[39;00m\u001b[39m'\u001b[39m\u001b[39m.\u001b[39m\u001b[39m\"\u001b[39m)\n",
      "\u001b[0;31mValueError\u001b[0m: No configurable matching 'base_object_dataset'.\n  In file \"../config/example_dataset.gin\", line 6\n    base_object_dataset.mode = 'train_pbr'"
     ]
    }
   ],
   "source": [
    "import gin\n",
    "import sys \n",
    "\n",
    "sys.path.append(\"../\")\n",
    "from dataset.object import base_object_dataset\n",
    "\n",
    "from utils import   utils\n",
    "gin.parse_config_file('../config/example_dataset.gin')\n",
    "utils.set_env_variables()"
   ]
  },
  {
   "cell_type": "code",
   "execution_count": null,
   "metadata": {},
   "outputs": [],
   "source": [
    "\n",
    "example = base_object_dataset()"
   ]
  },
  {
   "cell_type": "code",
   "execution_count": 2,
   "metadata": {},
   "outputs": [
    {
     "ename": "NameError",
     "evalue": "name 'example' is not defined",
     "output_type": "error",
     "traceback": [
      "\u001b[0;31m---------------------------------------------------------------------------\u001b[0m",
      "\u001b[0;31mNameError\u001b[0m                                 Traceback (most recent call last)",
      "Cell \u001b[0;32mIn[2], line 1\u001b[0m\n\u001b[0;32m----> 1\u001b[0m example[\u001b[39m0\u001b[39m]\n",
      "\u001b[0;31mNameError\u001b[0m: name 'example' is not defined"
     ]
    }
   ],
   "source": [
    "example[0]"
   ]
  },
  {
   "cell_type": "code",
   "execution_count": null,
   "metadata": {},
   "outputs": [],
   "source": []
  }
 ],
 "metadata": {
  "kernelspec": {
   "display_name": "lab",
   "language": "python",
   "name": "python3"
  },
  "language_info": {
   "codemirror_mode": {
    "name": "ipython",
    "version": 3
   },
   "file_extension": ".py",
   "mimetype": "text/x-python",
   "name": "python",
   "nbconvert_exporter": "python",
   "pygments_lexer": "ipython3",
   "version": "3.10.10"
  },
  "orig_nbformat": 4
 },
 "nbformat": 4,
 "nbformat_minor": 2
}
