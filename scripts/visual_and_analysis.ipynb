{
 "cells": [
  {
   "cell_type": "code",
   "execution_count": 1,
   "metadata": {},
   "outputs": [],
   "source": [
    "import gin\n",
    "import sys \n",
    "import os\n",
    "\n",
    "sys.path.append(\"../\")\n",
    "from utils import   utils"
   ]
  },
  {
   "cell_type": "code",
   "execution_count": 2,
   "metadata": {},
   "outputs": [],
   "source": [
    "gin.parse_config_file('../config/base_config.gin')\n",
    "utils.set_env_variables()"
   ]
  },
  {
   "cell_type": "code",
   "execution_count": 3,
   "metadata": {},
   "outputs": [],
   "source": [
    "data_root = os.environ[\"data_root\"]\n",
    "render_data_name = os.environ[\"render_data_name\"]\n"
   ]
  },
  {
   "cell_type": "code",
   "execution_count": 4,
   "metadata": {},
   "outputs": [],
   "source": [
    "def depth_to_pc(depth, K, TWO):\n",
    "    pass\n",
    "\n",
    "def visualize_pc():\n",
    "    pass\n",
    "\n",
    "from pathlib import Path\n",
    "from PIL import Image\n",
    "import json\n",
    "import numpy as np\n",
    "from torch.utils.data import Dataset\n",
    "\n",
    "class base_scene_dataset(Dataset):\n",
    "\n",
    "    def __init__(self, mode = \"train\", split_txt = None, num_samples = -1, color = False):\n",
    "        mode = mode.lower()\n",
    "        if mode =='validation': mode = 'val'\n",
    "        assert mode in [\"train\", \"val\", \"test\"], \"invalid mode, select train, val, or test\"\n",
    "        self.data_root = Path(os.environ[\"data_root\"])\n",
    "        self.render_data_name = Path(os.environ[\"render_data_name\"])\n",
    "        self.render_data_path = self.data_root / self.render_data_name\n",
    "        self.color = color\n",
    "        if split_txt is None:\n",
    "            self.collect_scenes()\n",
    "        else:\n",
    "            NotImplementedError\n",
    "\n",
    "    def replace_suffix(self, path_name ,add, remove= '.depth.png'):\n",
    "        l = int(-1*len(remove))\n",
    "        path_name = path_name[:l] + add\n",
    "        return path_name\n",
    "    \n",
    "    def check_exists (self, paths_list):\n",
    "        exists = True\n",
    "        for path in paths_list:\n",
    "            if not Path(path).exists():\n",
    "                exists = False\n",
    "                print(f\"Warning {path} does not exist and the scene will be dropped\")\n",
    "        return exists\n",
    "\n",
    "    def collect_scenes(self):\n",
    "        depth_path_gen = self.render_data_path.rglob('*.depth.png')\n",
    "        self.depth_path, self.camera_path, self.obj_info_path, self.seg_path = [], [], [], []\n",
    "        if self.color:\n",
    "            self.color_path = []\n",
    "        for depth in depth_path_gen:\n",
    "            depth_path = str(depth)\n",
    "            depth_path = depth_path\n",
    "            camera_path = self.replace_suffix(depth_path, '.camera_data.json')\n",
    "            obj_info_path = self.replace_suffix(depth_path, '.object_datas.json')\n",
    "            seg_path = self.replace_suffix(depth_path, '.segmentation.png')\n",
    "            paths = [depth_path, camera_path, obj_info_path, seg_path]\n",
    "\n",
    "            if self.color:\n",
    "                color_path = self.replace_suffix(depth_path, '.rgb.png')\n",
    "                paths.append(color_path)\n",
    "            \n",
    "            paths_exist = self.check_exists(paths)\n",
    "\n",
    "            if paths_exist:\n",
    "                self.depth_path.append(depth_path)\n",
    "                self.camera_path.append(camera_path)\n",
    "                self.obj_info_path.append(obj_info_path)\n",
    "                self.seg_path.append(seg_path)\n",
    "                if self.color:\n",
    "                    self.color_path.append(color_path)\n",
    "                    \n",
    "    def __getitem__(self, idx):\n",
    "        cam_file = open(self.camera_path[idx])\n",
    "        obj_info_file = open(self.obj_info_path[idx])\n",
    "        return_dict = {\n",
    "        \"depth\" : np.asarray(Image.open(self.depth_path[idx])),\n",
    "        \"camera\" : json.load(cam_file) ,\n",
    "        \"obj_info\" : json.load(obj_info_file)  ,\n",
    "        \"seg\" : np.asarray(Image.open(self.seg_path[idx])) ,\n",
    "        }\n",
    "\n",
    "        if self.color:\n",
    "            return_dict.update({\n",
    "                \"color\" : np.asarray(Image.open(self.color_path[idx])) \n",
    "            })\n",
    "            \n",
    "        return return_dict\n",
    "    \n",
    "    def __len__ (self):\n",
    "        return len(self.depth_path)\n",
    "\n"
   ]
  },
  {
   "cell_type": "code",
   "execution_count": 19,
   "metadata": {},
   "outputs": [
    {
     "data": {
      "text/plain": [
       "{'label': 'shapenet_04460130_92e4cc97df1ebe141203ec4ca6ccf208',\n",
       " 'TWO': [[0.10432620006604738,\n",
       "   -0.06876918927786269,\n",
       "   0.9882948619972277,\n",
       "   -0.08752231990422647],\n",
       "  [0.11888591295540152, 0.18749665005271288, 0.01746787903200947]],\n",
       " 'bbox_amodal': [642, 402, 716, 454],\n",
       " 'bbox_modal': [642, 402, 714, 454],\n",
       " 'visib_fract': 0.9457959880495092,\n",
       " 'unique_id': 1}"
      ]
     },
     "execution_count": 19,
     "metadata": {},
     "output_type": "execute_result"
    }
   ],
   "source": [
    "scenes = base_scene_dataset()\n",
    "scene[\"obj_info\"][0]"
   ]
  },
  {
   "cell_type": "code",
   "execution_count": 33,
   "metadata": {},
   "outputs": [],
   "source": [
    "scene = scenes[0]\n",
    "\n",
    "seg = scene[\"seg\"]\n",
    "seg_mask = seg == scene[\"obj_info\"][0][\"unique_id\"]\n",
    "\n",
    "xy = np.indices(scene[\"camera\"][\"resolution\"])\n",
    "depth = scene[\"depth\"]\n",
    "xy_z = np.concatenate([xy,depth[np.newaxis]], axis=0)\n",
    "xy_z_masked = xy_z[:,seg_mask]\n",
    "K = scene[\"camera\"][\"K\"]\n",
    "\n",
    "XYZ = xy_z_masked \n",
    "XYZ[0] = XYZ[0] * XYZ[-1]\n",
    "XYZ[1] = XYZ[1] * XYZ[-1]\n",
    "\n",
    "XYZ[0,:] = (XYZ[0,:] - K[0][-1])/K[0][0] \n",
    "XYZ[1,:] = (XYZ[1,:] - K[1][-1])/K[1][1] \n",
    "\n",
    "XYZ = XYZ/100\n"
   ]
  },
  {
   "cell_type": "code",
   "execution_count": 27,
   "metadata": {},
   "outputs": [
    {
     "data": {
      "text/plain": [
       "array([0.601, 0.889, 2.972])"
      ]
     },
     "execution_count": 27,
     "metadata": {},
     "output_type": "execute_result"
    }
   ],
   "source": [
    "XYZ.max(1) - XYZ.min(1)"
   ]
  },
  {
   "cell_type": "code",
   "execution_count": 891,
   "metadata": {},
   "outputs": [
    {
     "data": {
      "text/plain": [
       "array([ 60.1,  88.9, 297.2])"
      ]
     },
     "execution_count": 891,
     "metadata": {},
     "output_type": "execute_result"
    }
   ],
   "source": [
    "np.abs(XYZ.max(1)) - np.abs(XYZ.min(1))"
   ]
  },
  {
   "cell_type": "code",
   "execution_count": 34,
   "metadata": {},
   "outputs": [
    {
     "data": {
      "text/plain": [
       "array([ 6.01,  8.89, 29.72])"
      ]
     },
     "execution_count": 34,
     "metadata": {},
     "output_type": "execute_result"
    }
   ],
   "source": [
    "np.abs(XYZ.max(1) -XYZ.min(1)) "
   ]
  },
  {
   "cell_type": "code",
   "execution_count": 893,
   "metadata": {},
   "outputs": [
    {
     "data": {
      "text/plain": [
       "array([ 26.6,  40.8, 139.2])"
      ]
     },
     "execution_count": 893,
     "metadata": {},
     "output_type": "execute_result"
    }
   ],
   "source": [
    "np.abs(XYZ.min(1))"
   ]
  },
  {
   "cell_type": "code",
   "execution_count": 894,
   "metadata": {},
   "outputs": [
    {
     "name": "stdout",
     "output_type": "stream",
     "text": [
      "[314.62766743 312.37612755 -43.16578847] [ 100.32217318  100.52512145 -138.63619909]\n"
     ]
    }
   ],
   "source": [
    "Q, T_WC = scene[\"camera\"][\"TWC\"]\n",
    "RWC = utils.quaternion_rotation_matrix(Q)\n",
    "\n",
    "xyz = RWC.T @ XYZ\n",
    "xyz =  xyz - np.asarray(T_WC)[:,np.newaxis]\n",
    "\n",
    "Q, TWO = scene[\"obj_info\"][0][\"TWO\"]\n",
    "RWO = utils.quaternion_rotation_matrix(Q)\n",
    "xyz = xyz + np.asarray(TWO)[:,np.newaxis]\n",
    "\n",
    "xyz = RWO @ xyz\n",
    "  \n",
    "print(xyz.max(1),\n",
    "      xyz.min(1))"
   ]
  },
  {
   "cell_type": "code",
   "execution_count": 56,
   "metadata": {},
   "outputs": [],
   "source": [
    "import open3d as o3d\n",
    "\n",
    "QWC, tWC = scene[\"camera\"][\"TWC\"]\n",
    "QWO, tWO = scene[\"obj_info\"][0][\"TWO\"]\n",
    "RWC = utils.quaternion_rotation_matrix(QWC)\n",
    "RWO = utils.quaternion_rotation_matrix(QWO)\n",
    "\n",
    "TWC, TWO = np.eye(4), np.eye(4)\n",
    "TWC[:3,:3] = RWC\n",
    "TWC[:3,-1] = tWC\n",
    "\n",
    "TWO[:3,:3] = RWO\n",
    "TWO[:3,-1] = tWO\n",
    "XYZ_ = np.array(\n",
    "    [[-1,0,0],\n",
    "     [0,-1,0],\n",
    "     [0,0,1]]\n",
    ") @ XYZ\n",
    "TCO = np.linalg.inv(TWC) @ TWO\n",
    "#yy = TCO[:3,:3].T @ XYZ_\n",
    "#yy = -1 * TCO[:3,:3].T @ TCO[:3,-1:] + yy\n",
    "\n",
    "mesh_ = o3d.geometry.PointCloud(o3d.utility.Vector3dVector(XYZ.T))"
   ]
  },
  {
   "cell_type": "code",
   "execution_count": 57,
   "metadata": {},
   "outputs": [
    {
     "name": "stdout",
     "output_type": "stream",
     "text": [
      "[Open3D INFO] Skipping non-triangle primitive geometry of type: 2\n",
      "[Open3D INFO] Skipping non-triangle primitive geometry of type: 2\n",
      "[Open3D INFO] Skipping non-triangle primitive geometry of type: 2\n",
      "[Open3D INFO] Skipping non-triangle primitive geometry of type: 2\n",
      "[Open3D INFO] Skipping non-triangle primitive geometry of type: 2\n",
      "[Open3D INFO] Skipping non-triangle primitive geometry of type: 2\n",
      "[Open3D INFO] Skipping non-triangle primitive geometry of type: 2\n",
      "[Open3D INFO] Skipping non-triangle primitive geometry of type: 2\n",
      "[Open3D INFO] Skipping non-triangle primitive geometry of type: 2\n",
      "[Open3D INFO] Skipping non-triangle primitive geometry of type: 2\n",
      "[Open3D INFO] Skipping non-triangle primitive geometry of type: 2\n",
      "[Open3D INFO] Skipping non-triangle primitive geometry of type: 2\n",
      "[Open3D INFO] Skipping non-triangle primitive geometry of type: 2\n",
      "[Open3D INFO] Skipping non-triangle primitive geometry of type: 2\n",
      "[Open3D INFO] Skipping non-triangle primitive geometry of type: 2\n",
      "[Open3D INFO] Skipping non-triangle primitive geometry of type: 2\n",
      "[Open3D INFO] Skipping non-triangle primitive geometry of type: 2\n",
      "[Open3D INFO] Skipping non-triangle primitive geometry of type: 2\n",
      "[Open3D INFO] Skipping non-triangle primitive geometry of type: 2\n",
      "[Open3D INFO] Skipping non-triangle primitive geometry of type: 2\n",
      "[Open3D INFO] Skipping non-triangle primitive geometry of type: 2\n",
      "[Open3D INFO] Skipping non-triangle primitive geometry of type: 2\n",
      "[Open3D INFO] Skipping non-triangle primitive geometry of type: 2\n",
      "[Open3D INFO] Skipping non-triangle primitive geometry of type: 2\n",
      "[Open3D INFO] Skipping non-triangle primitive geometry of type: 2\n",
      "[Open3D INFO] Skipping non-triangle primitive geometry of type: 2\n",
      "[Open3D INFO] Skipping non-triangle primitive geometry of type: 2\n",
      "[Open3D INFO] Skipping non-triangle primitive geometry of type: 2\n",
      "[Open3D INFO] Skipping non-triangle primitive geometry of type: 2\n",
      "[Open3D INFO] Skipping non-triangle primitive geometry of type: 2\n",
      "[Open3D INFO] Skipping non-triangle primitive geometry of type: 2\n",
      "[Open3D INFO] Skipping non-triangle primitive geometry of type: 2\n",
      "[Open3D INFO] Skipping non-triangle primitive geometry of type: 2\n",
      "[Open3D INFO] Skipping non-triangle primitive geometry of type: 2\n",
      "[Open3D INFO] Skipping non-triangle primitive geometry of type: 2\n",
      "[Open3D INFO] Skipping non-triangle primitive geometry of type: 2\n",
      "[Open3D INFO] Skipping non-triangle primitive geometry of type: 2\n",
      "[Open3D INFO] Skipping non-triangle primitive geometry of type: 2\n",
      "[Open3D INFO] Skipping non-triangle primitive geometry of type: 2\n",
      "[Open3D INFO] Skipping non-triangle primitive geometry of type: 2\n",
      "[Open3D INFO] Skipping non-triangle primitive geometry of type: 2\n",
      "[Open3D INFO] Skipping non-triangle primitive geometry of type: 2\n",
      "[Open3D INFO] Skipping non-triangle primitive geometry of type: 2\n",
      "[Open3D INFO] Skipping non-triangle primitive geometry of type: 2\n",
      "[Open3D INFO] Skipping non-triangle primitive geometry of type: 2\n",
      "[Open3D INFO] Skipping non-triangle primitive geometry of type: 2\n",
      "[Open3D INFO] Skipping non-triangle primitive geometry of type: 2\n",
      "[Open3D INFO] Skipping non-triangle primitive geometry of type: 2\n",
      "[Open3D INFO] Skipping non-triangle primitive geometry of type: 2\n",
      "[Open3D INFO] Skipping non-triangle primitive geometry of type: 2\n",
      "[Open3D INFO] Skipping non-triangle primitive geometry of type: 2\n",
      "[Open3D INFO] Skipping non-triangle primitive geometry of type: 2\n",
      "[Open3D INFO] Skipping non-triangle primitive geometry of type: 2\n",
      "[Open3D INFO] Skipping non-triangle primitive geometry of type: 2\n",
      "[Open3D INFO] Skipping non-triangle primitive geometry of type: 2\n",
      "[Open3D INFO] Skipping non-triangle primitive geometry of type: 2\n",
      "[Open3D INFO] Skipping non-triangle primitive geometry of type: 2\n",
      "[Open3D INFO] Skipping non-triangle primitive geometry of type: 2\n",
      "[Open3D INFO] Skipping non-triangle primitive geometry of type: 2\n",
      "[Open3D INFO] Skipping non-triangle primitive geometry of type: 2\n",
      "[Open3D INFO] Skipping non-triangle primitive geometry of type: 2\n",
      "[Open3D INFO] Skipping non-triangle primitive geometry of type: 2\n",
      "[Open3D INFO] Skipping non-triangle primitive geometry of type: 2\n",
      "[Open3D INFO] Skipping non-triangle primitive geometry of type: 2\n",
      "[Open3D INFO] Skipping non-triangle primitive geometry of type: 2\n",
      "[Open3D INFO] Skipping non-triangle primitive geometry of type: 2\n",
      "[Open3D INFO] Skipping non-triangle primitive geometry of type: 2\n",
      "[Open3D INFO] Skipping non-triangle primitive geometry of type: 2\n",
      "[Open3D INFO] Skipping non-triangle primitive geometry of type: 2\n",
      "[Open3D INFO] Skipping non-triangle primitive geometry of type: 2\n",
      "[Open3D INFO] Skipping non-triangle primitive geometry of type: 2\n",
      "[Open3D INFO] Skipping non-triangle primitive geometry of type: 2\n",
      "[Open3D INFO] Skipping non-triangle primitive geometry of type: 2\n",
      "[Open3D INFO] Skipping non-triangle primitive geometry of type: 2\n",
      "[Open3D INFO] Skipping non-triangle primitive geometry of type: 2\n",
      "[Open3D INFO] Skipping non-triangle primitive geometry of type: 2\n",
      "[Open3D INFO] Skipping non-triangle primitive geometry of type: 2\n",
      "[Open3D INFO] Skipping non-triangle primitive geometry of type: 2\n",
      "[Open3D INFO] Skipping non-triangle primitive geometry of type: 2\n",
      "[Open3D INFO] Skipping non-triangle primitive geometry of type: 2\n",
      "[Open3D INFO] Skipping non-triangle primitive geometry of type: 2\n",
      "[Open3D INFO] Skipping non-triangle primitive geometry of type: 2\n",
      "[Open3D INFO] Skipping non-triangle primitive geometry of type: 2\n",
      "[Open3D INFO] Skipping non-triangle primitive geometry of type: 2\n",
      "[Open3D INFO] Skipping non-triangle primitive geometry of type: 2\n",
      "[Open3D INFO] Skipping non-triangle primitive geometry of type: 2\n",
      "[Open3D INFO] Skipping non-triangle primitive geometry of type: 2\n",
      "[Open3D INFO] Skipping non-triangle primitive geometry of type: 2\n",
      "[Open3D INFO] Skipping non-triangle primitive geometry of type: 2\n",
      "[Open3D INFO] Skipping non-triangle primitive geometry of type: 2\n",
      "[Open3D INFO] Skipping non-triangle primitive geometry of type: 2\n",
      "[Open3D INFO] Skipping non-triangle primitive geometry of type: 2\n",
      "[Open3D INFO] Skipping non-triangle primitive geometry of type: 2\n",
      "[Open3D INFO] Skipping non-triangle primitive geometry of type: 2\n"
     ]
    }
   ],
   "source": [
    "import open3d as o3d\n",
    "path = Path(os.environ[\"data_root\"]) / scene[\"obj_info\"][0][\"label\"].replace(\"_\",\"/\") / \"models\" / \"model_normalized.obj\"\n",
    "\n",
    "mesh = o3d.io.read_triangle_mesh(str(path))\n",
    "\n",
    "yy = TCO[:3,:3] @ (np.asarray((mesh.vertices * diag  + centroid))).T\n",
    "yy = yy + TCO[:3,-1:]\n",
    "\n",
    "mesh.vertices = o3d.utility.Vector3dVector(yy.T)\n"
   ]
  },
  {
   "cell_type": "code",
   "execution_count": 58,
   "metadata": {},
   "outputs": [],
   "source": [
    "o3d.visualization.draw_geometries([mesh, mesh_] )"
   ]
  },
  {
   "cell_type": "code",
   "execution_count": 21,
   "metadata": {},
   "outputs": [],
   "source": [
    "import json\n",
    "file = open(Path(os.environ[\"data_root\"]) / scene[\"obj_info\"][0][\"label\"].replace(\"_\",\"/\") / \"models\" / \"model_normalized.json\")\n",
    "\n",
    "ff = json.load(file)"
   ]
  },
  {
   "cell_type": "code",
   "execution_count": 22,
   "metadata": {},
   "outputs": [],
   "source": [
    "diag = np.linalg.norm(np.array(ff['max']) - np.array(ff['min']))\n",
    "centroid = np.asarray(ff['centroid'])"
   ]
  },
  {
   "cell_type": "code",
   "execution_count": 23,
   "metadata": {},
   "outputs": [
    {
     "data": {
      "text/plain": [
       "44.912662252017526"
      ]
     },
     "execution_count": 23,
     "metadata": {},
     "output_type": "execute_result"
    }
   ],
   "source": [
    "diag\n",
    "\n"
   ]
  },
  {
   "cell_type": "code",
   "execution_count": 38,
   "metadata": {},
   "outputs": [
    {
     "data": {
      "text/plain": [
       "array([31.34450505, 22.66550058, 29.53755434])"
      ]
     },
     "execution_count": 38,
     "metadata": {},
     "output_type": "execute_result"
    }
   ],
   "source": [
    "yy.T.max(0)-yy.T.min(0)"
   ]
  },
  {
   "cell_type": "code",
   "execution_count": 13,
   "metadata": {},
   "outputs": [
    {
     "data": {
      "text/plain": [
       "array([ 60.1,  88.9, 297.2])"
      ]
     },
     "execution_count": 13,
     "metadata": {},
     "output_type": "execute_result"
    }
   ],
   "source": [
    "XYZ_.max(1) - XYZ_.min(1)"
   ]
  },
  {
   "cell_type": "code",
   "execution_count": 28,
   "metadata": {},
   "outputs": [
    {
     "data": {
      "text/plain": [
       "array([17.79063, 38.1845 , 15.57513])"
      ]
     },
     "execution_count": 28,
     "metadata": {},
     "output_type": "execute_result"
    }
   ],
   "source": [
    "np.array(ff['max']) - np.array(ff['min'])"
   ]
  },
  {
   "cell_type": "code",
   "execution_count": 36,
   "metadata": {},
   "outputs": [
    {
     "data": {
      "text/plain": [
       "array([-0.34966151, -0.18617377, -0.32652084])"
      ]
     },
     "execution_count": 36,
     "metadata": {},
     "output_type": "execute_result"
    }
   ],
   "source": [
    "yy.T.min(0)"
   ]
  },
  {
   "cell_type": "code",
   "execution_count": 48,
   "metadata": {},
   "outputs": [
    {
     "data": {
      "text/plain": [
       "array([  8.67,  -4.08, -13.92])"
      ]
     },
     "execution_count": 48,
     "metadata": {},
     "output_type": "execute_result"
    }
   ],
   "source": [
    "XYZ_.max(1)"
   ]
  },
  {
   "cell_type": "code",
   "execution_count": 49,
   "metadata": {},
   "outputs": [
    {
     "data": {
      "text/plain": [
       "array([  2.66, -12.97, -43.64])"
      ]
     },
     "execution_count": 49,
     "metadata": {},
     "output_type": "execute_result"
    }
   ],
   "source": [
    "XYZ_.min(1)"
   ]
  },
  {
   "cell_type": "code",
   "execution_count": 42,
   "metadata": {},
   "outputs": [
    {
     "data": {
      "text/plain": [
       "array([15.64027591, 14.30394071, 14.8726343 ])"
      ]
     },
     "execution_count": 42,
     "metadata": {},
     "output_type": "execute_result"
    }
   ],
   "source": [
    "yy.max(1)"
   ]
  },
  {
   "cell_type": "code",
   "execution_count": 43,
   "metadata": {},
   "outputs": [
    {
     "data": {
      "text/plain": [
       "array([-15.70422914,  -8.36155986, -14.66492004])"
      ]
     },
     "execution_count": 43,
     "metadata": {},
     "output_type": "execute_result"
    }
   ],
   "source": [
    "yy.min(1)"
   ]
  },
  {
   "cell_type": "code",
   "execution_count": 60,
   "metadata": {},
   "outputs": [
    {
     "name": "stdout",
     "output_type": "stream",
     "text": [
      "[ 8.67 12.97 43.64] \n",
      " [ 2.66  4.08 13.92]\n"
     ]
    }
   ],
   "source": [
    "print(XYZ.max(1), \"\\n\", XYZ.min(1))"
   ]
  },
  {
   "cell_type": "code",
   "execution_count": 61,
   "metadata": {},
   "outputs": [
    {
     "name": "stdout",
     "output_type": "stream",
     "text": [
      "[-2.66 -4.08 43.64] \n",
      " [ -8.67 -12.97  13.92]\n"
     ]
    }
   ],
   "source": [
    "print(XYZ_.max(1), \"\\n\", XYZ_.min(1))"
   ]
  },
  {
   "cell_type": "code",
   "execution_count": 63,
   "metadata": {},
   "outputs": [
    {
     "name": "stdout",
     "output_type": "stream",
     "text": [
      "[Open3D INFO] Skipping non-triangle primitive geometry of type: 2\n",
      "[Open3D INFO] Skipping non-triangle primitive geometry of type: 2\n",
      "[Open3D INFO] Skipping non-triangle primitive geometry of type: 2\n",
      "[Open3D INFO] Skipping non-triangle primitive geometry of type: 2\n",
      "[Open3D INFO] Skipping non-triangle primitive geometry of type: 2\n",
      "[Open3D INFO] Skipping non-triangle primitive geometry of type: 2\n",
      "[Open3D INFO] Skipping non-triangle primitive geometry of type: 2\n",
      "[Open3D INFO] Skipping non-triangle primitive geometry of type: 2\n",
      "[Open3D INFO] Skipping non-triangle primitive geometry of type: 2\n",
      "[Open3D INFO] Skipping non-triangle primitive geometry of type: 2\n",
      "[Open3D INFO] Skipping non-triangle primitive geometry of type: 2\n",
      "[Open3D INFO] Skipping non-triangle primitive geometry of type: 2\n",
      "[Open3D INFO] Skipping non-triangle primitive geometry of type: 2\n",
      "[Open3D INFO] Skipping non-triangle primitive geometry of type: 2\n",
      "[Open3D INFO] Skipping non-triangle primitive geometry of type: 2\n",
      "[Open3D INFO] Skipping non-triangle primitive geometry of type: 2\n",
      "[Open3D INFO] Skipping non-triangle primitive geometry of type: 2\n",
      "[Open3D INFO] Skipping non-triangle primitive geometry of type: 2\n",
      "[Open3D INFO] Skipping non-triangle primitive geometry of type: 2\n",
      "[Open3D INFO] Skipping non-triangle primitive geometry of type: 2\n",
      "[Open3D INFO] Skipping non-triangle primitive geometry of type: 2\n",
      "[Open3D INFO] Skipping non-triangle primitive geometry of type: 2\n",
      "[Open3D INFO] Skipping non-triangle primitive geometry of type: 2\n",
      "[Open3D INFO] Skipping non-triangle primitive geometry of type: 2\n",
      "[Open3D INFO] Skipping non-triangle primitive geometry of type: 2\n",
      "[Open3D INFO] Skipping non-triangle primitive geometry of type: 2\n",
      "[Open3D INFO] Skipping non-triangle primitive geometry of type: 2\n",
      "[Open3D INFO] Skipping non-triangle primitive geometry of type: 2\n",
      "[Open3D INFO] Skipping non-triangle primitive geometry of type: 2\n",
      "[Open3D INFO] Skipping non-triangle primitive geometry of type: 2\n",
      "[Open3D INFO] Skipping non-triangle primitive geometry of type: 2\n",
      "[Open3D INFO] Skipping non-triangle primitive geometry of type: 2\n",
      "[Open3D INFO] Skipping non-triangle primitive geometry of type: 2\n",
      "[Open3D INFO] Skipping non-triangle primitive geometry of type: 2\n",
      "[Open3D INFO] Skipping non-triangle primitive geometry of type: 2\n",
      "[Open3D INFO] Skipping non-triangle primitive geometry of type: 2\n",
      "[Open3D INFO] Skipping non-triangle primitive geometry of type: 2\n",
      "[Open3D INFO] Skipping non-triangle primitive geometry of type: 2\n",
      "[Open3D INFO] Skipping non-triangle primitive geometry of type: 2\n",
      "[Open3D INFO] Skipping non-triangle primitive geometry of type: 2\n",
      "[Open3D INFO] Skipping non-triangle primitive geometry of type: 2\n",
      "[Open3D INFO] Skipping non-triangle primitive geometry of type: 2\n",
      "[Open3D INFO] Skipping non-triangle primitive geometry of type: 2\n",
      "[Open3D INFO] Skipping non-triangle primitive geometry of type: 2\n",
      "[Open3D INFO] Skipping non-triangle primitive geometry of type: 2\n",
      "[Open3D INFO] Skipping non-triangle primitive geometry of type: 2\n",
      "[Open3D INFO] Skipping non-triangle primitive geometry of type: 2\n",
      "[Open3D INFO] Skipping non-triangle primitive geometry of type: 2\n",
      "[Open3D INFO] Skipping non-triangle primitive geometry of type: 2\n",
      "[Open3D INFO] Skipping non-triangle primitive geometry of type: 2\n",
      "[Open3D INFO] Skipping non-triangle primitive geometry of type: 2\n",
      "[Open3D INFO] Skipping non-triangle primitive geometry of type: 2\n",
      "[Open3D INFO] Skipping non-triangle primitive geometry of type: 2\n",
      "[Open3D INFO] Skipping non-triangle primitive geometry of type: 2\n",
      "[Open3D INFO] Skipping non-triangle primitive geometry of type: 2\n",
      "[Open3D INFO] Skipping non-triangle primitive geometry of type: 2\n",
      "[Open3D INFO] Skipping non-triangle primitive geometry of type: 2\n",
      "[Open3D INFO] Skipping non-triangle primitive geometry of type: 2\n",
      "[Open3D INFO] Skipping non-triangle primitive geometry of type: 2\n",
      "[Open3D INFO] Skipping non-triangle primitive geometry of type: 2\n",
      "[Open3D INFO] Skipping non-triangle primitive geometry of type: 2\n",
      "[Open3D INFO] Skipping non-triangle primitive geometry of type: 2\n",
      "[Open3D INFO] Skipping non-triangle primitive geometry of type: 2\n",
      "[Open3D INFO] Skipping non-triangle primitive geometry of type: 2\n",
      "[Open3D INFO] Skipping non-triangle primitive geometry of type: 2\n",
      "[Open3D INFO] Skipping non-triangle primitive geometry of type: 2\n",
      "[Open3D INFO] Skipping non-triangle primitive geometry of type: 2\n",
      "[Open3D INFO] Skipping non-triangle primitive geometry of type: 2\n",
      "[Open3D INFO] Skipping non-triangle primitive geometry of type: 2\n",
      "[Open3D INFO] Skipping non-triangle primitive geometry of type: 2\n",
      "[Open3D INFO] Skipping non-triangle primitive geometry of type: 2\n",
      "[Open3D INFO] Skipping non-triangle primitive geometry of type: 2\n",
      "[Open3D INFO] Skipping non-triangle primitive geometry of type: 2\n",
      "[Open3D INFO] Skipping non-triangle primitive geometry of type: 2\n",
      "[Open3D INFO] Skipping non-triangle primitive geometry of type: 2\n",
      "[Open3D INFO] Skipping non-triangle primitive geometry of type: 2\n",
      "[Open3D INFO] Skipping non-triangle primitive geometry of type: 2\n",
      "[Open3D INFO] Skipping non-triangle primitive geometry of type: 2\n",
      "[Open3D INFO] Skipping non-triangle primitive geometry of type: 2\n",
      "[Open3D INFO] Skipping non-triangle primitive geometry of type: 2\n",
      "[Open3D INFO] Skipping non-triangle primitive geometry of type: 2\n",
      "[Open3D INFO] Skipping non-triangle primitive geometry of type: 2\n",
      "[Open3D INFO] Skipping non-triangle primitive geometry of type: 2\n",
      "[Open3D INFO] Skipping non-triangle primitive geometry of type: 2\n",
      "[Open3D INFO] Skipping non-triangle primitive geometry of type: 2\n",
      "[Open3D INFO] Skipping non-triangle primitive geometry of type: 2\n",
      "[Open3D INFO] Skipping non-triangle primitive geometry of type: 2\n",
      "[Open3D INFO] Skipping non-triangle primitive geometry of type: 2\n",
      "[Open3D INFO] Skipping non-triangle primitive geometry of type: 2\n",
      "[Open3D INFO] Skipping non-triangle primitive geometry of type: 2\n",
      "[Open3D INFO] Skipping non-triangle primitive geometry of type: 2\n",
      "[Open3D INFO] Skipping non-triangle primitive geometry of type: 2\n",
      "[Open3D INFO] Skipping non-triangle primitive geometry of type: 2\n",
      "[Open3D INFO] Skipping non-triangle primitive geometry of type: 2\n"
     ]
    }
   ],
   "source": [
    "import open3d as o3d\n",
    "path = Path(os.environ[\"data_root\"]) / scene[\"obj_info\"][0][\"label\"].replace(\"_\",\"/\") / \"models\" / \"model_normalized.obj\"\n",
    "\n",
    "mesh = o3d.io.read_triangle_mesh(str(path))\n",
    "\n",
    "x = mesh.vertices * diag + centroid"
   ]
  },
  {
   "cell_type": "code",
   "execution_count": 68,
   "metadata": {},
   "outputs": [
    {
     "name": "stdout",
     "output_type": "stream",
     "text": [
      "[12.19838667 38.18450237  3.19421053] \n",
      " [-5.59223761e+00 -1.94360967e-05 -1.23809171e+01]\n"
     ]
    }
   ],
   "source": [
    "print(x.max(0), \"\\n\", x.min(0))"
   ]
  },
  {
   "cell_type": "code",
   "execution_count": 69,
   "metadata": {},
   "outputs": [
    {
     "data": {
      "text/plain": [
       "(71011, 3)"
      ]
     },
     "execution_count": 69,
     "metadata": {},
     "output_type": "execute_result"
    }
   ],
   "source": [
    "x.shape"
   ]
  },
  {
   "cell_type": "code",
   "execution_count": 70,
   "metadata": {},
   "outputs": [
    {
     "data": {
      "text/plain": [
       "array([[-0.96877369, -0.11766673,  0.21824777,  0.11888591],\n",
       "       [-0.15419021,  0.97522138, -0.15864686,  0.18749665],\n",
       "       [-0.19417242, -0.18734457, -0.96291177,  0.01746788],\n",
       "       [ 0.        ,  0.        ,  0.        ,  1.        ]])"
      ]
     },
     "execution_count": 70,
     "metadata": {},
     "output_type": "execute_result"
    }
   ],
   "source": [
    "TWO"
   ]
  },
  {
   "cell_type": "code",
   "execution_count": 80,
   "metadata": {},
   "outputs": [
    {
     "data": {
      "text/plain": [
       "array([1.4842383 , 6.79944807, 9.60068656])"
      ]
     },
     "execution_count": 80,
     "metadata": {},
     "output_type": "execute_result"
    }
   ],
   "source": [
    "(TCO[:3,:3].T @ x.T).max(1)"
   ]
  },
  {
   "cell_type": "code",
   "execution_count": 81,
   "metadata": {},
   "outputs": [
    {
     "data": {
      "text/plain": [
       "array([-36.3631888 , -13.29135153,  -6.44919524])"
      ]
     },
     "execution_count": 81,
     "metadata": {},
     "output_type": "execute_result"
    }
   ],
   "source": [
    "(TCO[:3,:3].T @ x.T).min(1)"
   ]
  },
  {
   "cell_type": "code",
   "execution_count": null,
   "metadata": {},
   "outputs": [],
   "source": []
  }
 ],
 "metadata": {
  "kernelspec": {
   "display_name": "lab",
   "language": "python",
   "name": "python3"
  },
  "language_info": {
   "codemirror_mode": {
    "name": "ipython",
    "version": 3
   },
   "file_extension": ".py",
   "mimetype": "text/x-python",
   "name": "python",
   "nbconvert_exporter": "python",
   "pygments_lexer": "ipython3",
   "version": "3.10.10"
  },
  "orig_nbformat": 4
 },
 "nbformat": 4,
 "nbformat_minor": 2
}
